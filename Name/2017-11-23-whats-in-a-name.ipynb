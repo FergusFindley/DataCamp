{
 "cells": [
  {
   "cell_type": "markdown",
   "metadata": {
    "dc": {
     "key": "af3ab50ea7"
    },
    "deletable": false,
    "editable": false,
    "run_control": {
     "frozen": true
    },
    "tags": [
     "context"
    ]
   },
   "source": [
    "## 1. Introduction to Baby Names Data\n",
    "<blockquote>\n",
    "  <p>What’s in a name? That which we call a rose, By any other name would smell as sweet.</p>\n",
    "</blockquote>\n",
    "<p>In this project, we will explore a rich dataset of first names of babies born in the US, that spans a period of more than 100 years! This suprisingly simple dataset can help us uncover so many interesting stories, and that is exactly what we are going to be doing. </p>\n",
    "<p>Let us start by reading the data.</p>"
   ]
  },
  {
   "cell_type": "code",
   "execution_count": 1,
   "metadata": {
    "dc": {
     "key": "af3ab50ea7"
    },
    "tags": [
     "sample_code"
    ]
   },
   "outputs": [
    {
     "data": {
      "text/html": [
       "<div>\n",
       "<style>\n",
       "    .dataframe thead tr:only-child th {\n",
       "        text-align: right;\n",
       "    }\n",
       "\n",
       "    .dataframe thead th {\n",
       "        text-align: left;\n",
       "    }\n",
       "\n",
       "    .dataframe tbody tr th {\n",
       "        vertical-align: top;\n",
       "    }\n",
       "</style>\n",
       "<table border=\"1\" class=\"dataframe\">\n",
       "  <thead>\n",
       "    <tr style=\"text-align: right;\">\n",
       "      <th></th>\n",
       "      <th>name</th>\n",
       "      <th>sex</th>\n",
       "      <th>births</th>\n",
       "      <th>year</th>\n",
       "    </tr>\n",
       "  </thead>\n",
       "  <tbody>\n",
       "    <tr>\n",
       "      <th>0</th>\n",
       "      <td>Mary</td>\n",
       "      <td>F</td>\n",
       "      <td>7065</td>\n",
       "      <td>1880</td>\n",
       "    </tr>\n",
       "    <tr>\n",
       "      <th>1</th>\n",
       "      <td>Anna</td>\n",
       "      <td>F</td>\n",
       "      <td>2604</td>\n",
       "      <td>1880</td>\n",
       "    </tr>\n",
       "    <tr>\n",
       "      <th>2</th>\n",
       "      <td>Emma</td>\n",
       "      <td>F</td>\n",
       "      <td>2003</td>\n",
       "      <td>1880</td>\n",
       "    </tr>\n",
       "    <tr>\n",
       "      <th>3</th>\n",
       "      <td>Elizabeth</td>\n",
       "      <td>F</td>\n",
       "      <td>1939</td>\n",
       "      <td>1880</td>\n",
       "    </tr>\n",
       "    <tr>\n",
       "      <th>4</th>\n",
       "      <td>Minnie</td>\n",
       "      <td>F</td>\n",
       "      <td>1746</td>\n",
       "      <td>1880</td>\n",
       "    </tr>\n",
       "  </tbody>\n",
       "</table>\n",
       "</div>"
      ],
      "text/plain": [
       "        name sex  births  year\n",
       "0       Mary   F    7065  1880\n",
       "1       Anna   F    2604  1880\n",
       "2       Emma   F    2003  1880\n",
       "3  Elizabeth   F    1939  1880\n",
       "4     Minnie   F    1746  1880"
      ]
     },
     "execution_count": 1,
     "metadata": {},
     "output_type": "execute_result"
    }
   ],
   "source": [
    "# Import modules\n",
    "import pandas as pd\n",
    "\n",
    "# Read names into a dataframe: bnames\n",
    "bnames = pd.read_csv('datasets/names.csv.gz')\n",
    "\n",
    "bnames.head()\n"
   ]
  },
  {
   "cell_type": "markdown",
   "metadata": {
    "dc": {
     "key": "0bc85b342d"
    },
    "deletable": false,
    "editable": false,
    "run_control": {
     "frozen": true
    },
    "tags": [
     "context"
    ]
   },
   "source": [
    "## 2. Exploring Trends in Names\n",
    "<p>One of the first things we want to do is to understand naming trends. Let us start by figuring out the top five most popular male and female names for this decade (born 2011 and later). Do you want to make any guesses? Go on, be a sport!!</p>"
   ]
  },
  {
   "cell_type": "code",
   "execution_count": 2,
   "metadata": {
    "dc": {
     "key": "0bc85b342d"
    },
    "tags": [
     "sample_code"
    ]
   },
   "outputs": [
    {
     "data": {
      "text/html": [
       "<div>\n",
       "<style>\n",
       "    .dataframe thead tr:only-child th {\n",
       "        text-align: right;\n",
       "    }\n",
       "\n",
       "    .dataframe thead th {\n",
       "        text-align: left;\n",
       "    }\n",
       "\n",
       "    .dataframe tbody tr th {\n",
       "        vertical-align: top;\n",
       "    }\n",
       "</style>\n",
       "<table border=\"1\" class=\"dataframe\">\n",
       "  <thead>\n",
       "    <tr style=\"text-align: right;\">\n",
       "      <th></th>\n",
       "      <th>sex</th>\n",
       "      <th>name</th>\n",
       "      <th>births</th>\n",
       "    </tr>\n",
       "  </thead>\n",
       "  <tbody>\n",
       "    <tr>\n",
       "      <th>9304</th>\n",
       "      <td>F</td>\n",
       "      <td>Emma</td>\n",
       "      <td>121375</td>\n",
       "    </tr>\n",
       "    <tr>\n",
       "      <th>26546</th>\n",
       "      <td>F</td>\n",
       "      <td>Sophia</td>\n",
       "      <td>117352</td>\n",
       "    </tr>\n",
       "    <tr>\n",
       "      <th>22720</th>\n",
       "      <td>F</td>\n",
       "      <td>Olivia</td>\n",
       "      <td>111691</td>\n",
       "    </tr>\n",
       "    <tr>\n",
       "      <th>11799</th>\n",
       "      <td>F</td>\n",
       "      <td>Isabella</td>\n",
       "      <td>103947</td>\n",
       "    </tr>\n",
       "    <tr>\n",
       "      <th>4124</th>\n",
       "      <td>F</td>\n",
       "      <td>Ava</td>\n",
       "      <td>94507</td>\n",
       "    </tr>\n",
       "    <tr>\n",
       "      <th>46014</th>\n",
       "      <td>M</td>\n",
       "      <td>Noah</td>\n",
       "      <td>110280</td>\n",
       "    </tr>\n",
       "    <tr>\n",
       "      <th>44593</th>\n",
       "      <td>M</td>\n",
       "      <td>Mason</td>\n",
       "      <td>105104</td>\n",
       "    </tr>\n",
       "    <tr>\n",
       "      <th>38946</th>\n",
       "      <td>M</td>\n",
       "      <td>Jacob</td>\n",
       "      <td>104722</td>\n",
       "    </tr>\n",
       "    <tr>\n",
       "      <th>43724</th>\n",
       "      <td>M</td>\n",
       "      <td>Liam</td>\n",
       "      <td>103250</td>\n",
       "    </tr>\n",
       "    <tr>\n",
       "      <th>51129</th>\n",
       "      <td>M</td>\n",
       "      <td>William</td>\n",
       "      <td>99144</td>\n",
       "    </tr>\n",
       "  </tbody>\n",
       "</table>\n",
       "</div>"
      ],
      "text/plain": [
       "      sex      name  births\n",
       "9304    F      Emma  121375\n",
       "26546   F    Sophia  117352\n",
       "22720   F    Olivia  111691\n",
       "11799   F  Isabella  103947\n",
       "4124    F       Ava   94507\n",
       "46014   M      Noah  110280\n",
       "44593   M     Mason  105104\n",
       "38946   M     Jacob  104722\n",
       "43724   M      Liam  103250\n",
       "51129   M   William   99144"
      ]
     },
     "execution_count": 2,
     "metadata": {},
     "output_type": "execute_result"
    }
   ],
   "source": [
    "# bnames_top5: A dataframe with top 5 popular male and female names for the decade\n",
    "\n",
    "bnames_decade = bnames[bnames['year']>=2011]\n",
    "#bnames_decade.groupby(['sex','name']).agg({'births':sum}).sort_values(['births'], ascending=False)\n",
    "bnames_decade_agg = bnames_decade.groupby(['sex','name'], as_index=False)['births'].sum()\n",
    "bnames_top5 = bnames_decade_agg.sort_values(['sex','births'],ascending=[True,False]).groupby('sex').head()\n",
    "bnames_top5"
   ]
  },
  {
   "cell_type": "markdown",
   "metadata": {
    "dc": {
     "key": "7cca0a6aff"
    },
    "deletable": false,
    "editable": false,
    "run_control": {
     "frozen": true
    },
    "tags": [
     "context"
    ]
   },
   "source": [
    "## 3. Proportion of Births\n",
    "<p>While the number of births is a useful metric, making comparisons across years becomes difficult, as one would have to control for population effects. One way around this is to normalize the number of births by the total number of births in that year.</p>"
   ]
  },
  {
   "cell_type": "code",
   "execution_count": 3,
   "metadata": {
    "dc": {
     "key": "7cca0a6aff"
    },
    "tags": [
     "sample_code"
    ]
   },
   "outputs": [
    {
     "data": {
      "text/html": [
       "<div>\n",
       "<style>\n",
       "    .dataframe thead tr:only-child th {\n",
       "        text-align: right;\n",
       "    }\n",
       "\n",
       "    .dataframe thead th {\n",
       "        text-align: left;\n",
       "    }\n",
       "\n",
       "    .dataframe tbody tr th {\n",
       "        vertical-align: top;\n",
       "    }\n",
       "</style>\n",
       "<table border=\"1\" class=\"dataframe\">\n",
       "  <thead>\n",
       "    <tr style=\"text-align: right;\">\n",
       "      <th></th>\n",
       "      <th>name</th>\n",
       "      <th>sex</th>\n",
       "      <th>births</th>\n",
       "      <th>year</th>\n",
       "      <th>prop_births</th>\n",
       "    </tr>\n",
       "  </thead>\n",
       "  <tbody>\n",
       "    <tr>\n",
       "      <th>0</th>\n",
       "      <td>Mary</td>\n",
       "      <td>F</td>\n",
       "      <td>7065</td>\n",
       "      <td>1880</td>\n",
       "      <td>0.035065</td>\n",
       "    </tr>\n",
       "    <tr>\n",
       "      <th>1</th>\n",
       "      <td>Anna</td>\n",
       "      <td>F</td>\n",
       "      <td>2604</td>\n",
       "      <td>1880</td>\n",
       "      <td>0.012924</td>\n",
       "    </tr>\n",
       "    <tr>\n",
       "      <th>2</th>\n",
       "      <td>Emma</td>\n",
       "      <td>F</td>\n",
       "      <td>2003</td>\n",
       "      <td>1880</td>\n",
       "      <td>0.009941</td>\n",
       "    </tr>\n",
       "    <tr>\n",
       "      <th>3</th>\n",
       "      <td>Elizabeth</td>\n",
       "      <td>F</td>\n",
       "      <td>1939</td>\n",
       "      <td>1880</td>\n",
       "      <td>0.009624</td>\n",
       "    </tr>\n",
       "    <tr>\n",
       "      <th>4</th>\n",
       "      <td>Minnie</td>\n",
       "      <td>F</td>\n",
       "      <td>1746</td>\n",
       "      <td>1880</td>\n",
       "      <td>0.008666</td>\n",
       "    </tr>\n",
       "  </tbody>\n",
       "</table>\n",
       "</div>"
      ],
      "text/plain": [
       "        name sex  births  year  prop_births\n",
       "0       Mary   F    7065  1880     0.035065\n",
       "1       Anna   F    2604  1880     0.012924\n",
       "2       Emma   F    2003  1880     0.009941\n",
       "3  Elizabeth   F    1939  1880     0.009624\n",
       "4     Minnie   F    1746  1880     0.008666"
      ]
     },
     "execution_count": 3,
     "metadata": {},
     "output_type": "execute_result"
    }
   ],
   "source": [
    "bnames2 = bnames.copy()\n",
    "# Compute the proportion of births by year and add it as a new column\n",
    "# -- YOUR CODE HERE --\n",
    "bnames2['births_per_year'] = bnames2.groupby('year')['births'].transform(sum)\n",
    "bnames2['prop_births']=bnames2['births']/bnames2['births_per_year']\n",
    "bnames2 = bnames2.drop('births_per_year',axis=1)\n",
    "bnames2.head()"
   ]
  },
  {
   "cell_type": "markdown",
   "metadata": {
    "dc": {
     "key": "ec03f98f40"
    },
    "deletable": false,
    "editable": false,
    "run_control": {
     "frozen": true
    },
    "tags": [
     "context"
    ]
   },
   "source": [
    "## 4. Popularity of Names\n",
    "<p>Now that we have the proportion of births, let us plot the popularity of a name through the years. How about plotting the popularity of the female names <code>Elizabeth</code>, and <code>Deneen</code>, and inspecting the underlying trends for any interesting patterns!</p>"
   ]
  },
  {
   "cell_type": "code",
   "execution_count": 4,
   "metadata": {
    "dc": {
     "key": "ec03f98f40"
    },
    "tags": [
     "sample_code"
    ]
   },
   "outputs": [
    {
     "data": {
      "image/png": "[encoded data removed]",
      "text/plain": [
       "<matplotlib.figure.Figure at 0xc535e80>"
      ]
     },
     "metadata": {},
     "output_type": "display_data"
    }
   ],
   "source": [
    "# Set up matplotlib for plotting in the notebook.\n",
    "%matplotlib inline\n",
    "import matplotlib.pyplot as plt\n",
    "\n",
    "def plot_trends(name, sex):\n",
    "    # -- YOUR CODE HERE --\n",
    "    temp = bnames2[(bnames2.sex==sex) & (bnames2.name==name)]\n",
    "    plt.plot(temp.year, temp.prop_births, label=name)\n",
    "    plt.legend()\n",
    "    plt.xlabel('year')\n",
    "    plt.ylabel('proportion of births')\n",
    "    return\n",
    "\n",
    "\n",
    "# Plot trends for Elizabeth and Deneen \n",
    "# -- YOUR CODE HERE --\n",
    "plot_trends('Elizabeth', 'F')\n",
    "plot_trends('Deneen', 'F')\n",
    "# How many times did these female names peak?\n",
    "num_peaks_elizabeth = 3\n",
    "num_peaks_deneen    = 1"
   ]
  },
  {
   "cell_type": "markdown",
   "metadata": {
    "dc": {
     "key": "b56a9fcef5"
    },
    "deletable": false,
    "editable": false,
    "run_control": {
     "frozen": true
    },
    "tags": [
     "context"
    ]
   },
   "source": [
    "## 5. Trendy vs. Stable Names\n",
    "<p>Based on the plots we created earlier, we can see that <strong>Elizabeth</strong> is a fairly stable name, while <strong>Deneen</strong> is not. An interesting question to ask would be what are the top 5 stable and top 5 trendiest names. A stable name is one whose proportion across years does not vary drastically, while a trendy name is one whose popularity peaks for a short period and then dies down. </p>\n",
    "<p>There are many ways to measure trendiness. A simple measure would be to look at the maximum proportion of births for a name, normalized by the sume of proportion of births across years. For example, if the name <code>Joe</code> had the proportions <code>0.1, 0.2, 0.1, 0.1</code>, then the trendiness measure would be <code>0.2/(0.1 + 0.2 + 0.1 + 0.1)</code> which equals <code>0.5</code>.</p>\n",
    "<p>Let us use this idea to figure out the top 10 trendy names in this data set, with at least a 1000 births.</p>"
   ]
  },
  {
   "cell_type": "code",
   "execution_count": 5,
   "metadata": {
    "dc": {
     "key": "b56a9fcef5"
    },
    "tags": [
     "sample_code"
    ]
   },
   "outputs": [
    {
     "data": {
      "text/html": [
       "<div>\n",
       "<style>\n",
       "    .dataframe thead tr:only-child th {\n",
       "        text-align: right;\n",
       "    }\n",
       "\n",
       "    .dataframe thead th {\n",
       "        text-align: left;\n",
       "    }\n",
       "\n",
       "    .dataframe tbody tr th {\n",
       "        vertical-align: top;\n",
       "    }\n",
       "</style>\n",
       "<table border=\"1\" class=\"dataframe\">\n",
       "  <thead>\n",
       "    <tr style=\"text-align: right;\">\n",
       "      <th></th>\n",
       "      <th>name</th>\n",
       "      <th>sex</th>\n",
       "      <th>total</th>\n",
       "      <th>max</th>\n",
       "      <th>trendiness</th>\n",
       "    </tr>\n",
       "  </thead>\n",
       "  <tbody>\n",
       "    <tr>\n",
       "      <th>0</th>\n",
       "      <td>Christop</td>\n",
       "      <td>M</td>\n",
       "      <td>1082</td>\n",
       "      <td>1082</td>\n",
       "      <td>1.000000</td>\n",
       "    </tr>\n",
       "    <tr>\n",
       "      <th>1</th>\n",
       "      <td>Royalty</td>\n",
       "      <td>F</td>\n",
       "      <td>1057</td>\n",
       "      <td>581</td>\n",
       "      <td>0.549669</td>\n",
       "    </tr>\n",
       "    <tr>\n",
       "      <th>2</th>\n",
       "      <td>Kizzy</td>\n",
       "      <td>F</td>\n",
       "      <td>2325</td>\n",
       "      <td>1116</td>\n",
       "      <td>0.480000</td>\n",
       "    </tr>\n",
       "    <tr>\n",
       "      <th>3</th>\n",
       "      <td>Aitana</td>\n",
       "      <td>F</td>\n",
       "      <td>1203</td>\n",
       "      <td>564</td>\n",
       "      <td>0.468828</td>\n",
       "    </tr>\n",
       "    <tr>\n",
       "      <th>4</th>\n",
       "      <td>Deneen</td>\n",
       "      <td>F</td>\n",
       "      <td>3602</td>\n",
       "      <td>1604</td>\n",
       "      <td>0.445308</td>\n",
       "    </tr>\n",
       "    <tr>\n",
       "      <th>5</th>\n",
       "      <td>Moesha</td>\n",
       "      <td>F</td>\n",
       "      <td>1067</td>\n",
       "      <td>426</td>\n",
       "      <td>0.399250</td>\n",
       "    </tr>\n",
       "    <tr>\n",
       "      <th>6</th>\n",
       "      <td>Marely</td>\n",
       "      <td>F</td>\n",
       "      <td>2527</td>\n",
       "      <td>1004</td>\n",
       "      <td>0.397309</td>\n",
       "    </tr>\n",
       "    <tr>\n",
       "      <th>7</th>\n",
       "      <td>Kanye</td>\n",
       "      <td>M</td>\n",
       "      <td>1304</td>\n",
       "      <td>507</td>\n",
       "      <td>0.388804</td>\n",
       "    </tr>\n",
       "    <tr>\n",
       "      <th>8</th>\n",
       "      <td>Tennille</td>\n",
       "      <td>F</td>\n",
       "      <td>2172</td>\n",
       "      <td>769</td>\n",
       "      <td>0.354052</td>\n",
       "    </tr>\n",
       "    <tr>\n",
       "      <th>9</th>\n",
       "      <td>Kadijah</td>\n",
       "      <td>F</td>\n",
       "      <td>1411</td>\n",
       "      <td>486</td>\n",
       "      <td>0.344437</td>\n",
       "    </tr>\n",
       "  </tbody>\n",
       "</table>\n",
       "</div>"
      ],
      "text/plain": [
       "       name sex  total   max  trendiness\n",
       "0  Christop   M   1082  1082    1.000000\n",
       "1   Royalty   F   1057   581    0.549669\n",
       "2     Kizzy   F   2325  1116    0.480000\n",
       "3    Aitana   F   1203   564    0.468828\n",
       "4    Deneen   F   3602  1604    0.445308\n",
       "5    Moesha   F   1067   426    0.399250\n",
       "6    Marely   F   2527  1004    0.397309\n",
       "7     Kanye   M   1304   507    0.388804\n",
       "8  Tennille   F   2172   769    0.354052\n",
       "9   Kadijah   F   1411   486    0.344437"
      ]
     },
     "execution_count": 5,
     "metadata": {},
     "output_type": "execute_result"
    }
   ],
   "source": [
    "# top10_trendy_names | A Data Frame of the top 10 most trendy names\n",
    "names = pd.DataFrame()\n",
    "name_and_sex_grouped = bnames2.groupby(['name','sex'])\n",
    "names['total'] = name_and_sex_grouped['births'].sum()\n",
    "#bnames2 = bnames2[bnames2.total>=1000]\n",
    "\n",
    "names['max'] = name_and_sex_grouped['births'].max()\n",
    "\n",
    "names = names[names.total >= 1000]\n",
    "\n",
    "names['trendiness']=names['max']/names['total']\n",
    "top10_trendy_names = names.sort_values('trendiness', ascending=False).head(10).reset_index()\n",
    "\n",
    "top10_trendy_names\n",
    "#bnames2['max'] = bnames2.groupby(['name','sex'])['births'].transform(max)\n",
    "#bnames2['trendiness'] = bnames2['max']/bnames2['total'] \n",
    "#bnames2 = bnames2.sort_values('trendiness', ascending=False)\n",
    "#bnames2.head()\n",
    "#bnames_over1000 = bynames[bynames.births>=1000]\n",
    "#bnames_over1000.sort_values('births')\n"
   ]
  },
  {
   "cell_type": "markdown",
   "metadata": {
    "dc": {
     "key": "8beea38403"
    },
    "deletable": false,
    "editable": false,
    "run_control": {
     "frozen": true
    },
    "tags": [
     "context"
    ]
   },
   "source": [
    "## 6. Bring in Mortality Data\n",
    "<p>So, what more is in a name? Well, with some further work, it is possible to predict the age of a person based on the name (Whoa! Really????). For this, we will need actuarial data that can tell us the chances that someone is still alive, based on when they were born. Fortunately, the <a href=\"https://www.ssa.gov/\">SSA</a> provides detailed <a href=\"https://www.ssa.gov/oact/STATS/table4c6.html\">actuarial life tables</a> by birth cohorts.</p>\n",
    "<table>\n",
    "<thead>\n",
    "<tr>\n",
    "<th style=\"text-align:right;\">year</th>\n",
    "<th style=\"text-align:right;\">age</th>\n",
    "<th style=\"text-align:right;\">qx</th>\n",
    "<th style=\"text-align:right;\">lx</th>\n",
    "<th style=\"text-align:right;\">dx</th>\n",
    "<th style=\"text-align:right;\">Lx</th>\n",
    "<th style=\"text-align:right;\">Tx</th>\n",
    "<th style=\"text-align:right;\">ex</th>\n",
    "<th style=\"text-align:left;\">sex</th>\n",
    "</tr>\n",
    "</thead>\n",
    "<tbody>\n",
    "<tr>\n",
    "<td style=\"text-align:right;\">1910</td>\n",
    "<td style=\"text-align:right;\">39</td>\n",
    "<td style=\"text-align:right;\">0.00283</td>\n",
    "<td style=\"text-align:right;\">78275</td>\n",
    "<td style=\"text-align:right;\">222</td>\n",
    "<td style=\"text-align:right;\">78164</td>\n",
    "<td style=\"text-align:right;\">3129636</td>\n",
    "<td style=\"text-align:right;\">39.98</td>\n",
    "<td style=\"text-align:left;\">F</td>\n",
    "</tr>\n",
    "<tr>\n",
    "<td style=\"text-align:right;\">1910</td>\n",
    "<td style=\"text-align:right;\">40</td>\n",
    "<td style=\"text-align:right;\">0.00297</td>\n",
    "<td style=\"text-align:right;\">78053</td>\n",
    "<td style=\"text-align:right;\">232</td>\n",
    "<td style=\"text-align:right;\">77937</td>\n",
    "<td style=\"text-align:right;\">3051472</td>\n",
    "<td style=\"text-align:right;\">39.09</td>\n",
    "<td style=\"text-align:left;\">F</td>\n",
    "</tr>\n",
    "<tr>\n",
    "<td style=\"text-align:right;\">1910</td>\n",
    "<td style=\"text-align:right;\">41</td>\n",
    "<td style=\"text-align:right;\">0.00318</td>\n",
    "<td style=\"text-align:right;\">77821</td>\n",
    "<td style=\"text-align:right;\">248</td>\n",
    "<td style=\"text-align:right;\">77697</td>\n",
    "<td style=\"text-align:right;\">2973535</td>\n",
    "<td style=\"text-align:right;\">38.21</td>\n",
    "<td style=\"text-align:left;\">F</td>\n",
    "</tr>\n",
    "<tr>\n",
    "<td style=\"text-align:right;\">1910</td>\n",
    "<td style=\"text-align:right;\">42</td>\n",
    "<td style=\"text-align:right;\">0.00332</td>\n",
    "<td style=\"text-align:right;\">77573</td>\n",
    "<td style=\"text-align:right;\">257</td>\n",
    "<td style=\"text-align:right;\">77444</td>\n",
    "<td style=\"text-align:right;\">2895838</td>\n",
    "<td style=\"text-align:right;\">37.33</td>\n",
    "<td style=\"text-align:left;\">F</td>\n",
    "</tr>\n",
    "<tr>\n",
    "<td style=\"text-align:right;\">1910</td>\n",
    "<td style=\"text-align:right;\">43</td>\n",
    "<td style=\"text-align:right;\">0.00346</td>\n",
    "<td style=\"text-align:right;\">77316</td>\n",
    "<td style=\"text-align:right;\">268</td>\n",
    "<td style=\"text-align:right;\">77182</td>\n",
    "<td style=\"text-align:right;\">2818394</td>\n",
    "<td style=\"text-align:right;\">36.45</td>\n",
    "<td style=\"text-align:left;\">F</td>\n",
    "</tr>\n",
    "<tr>\n",
    "<td style=\"text-align:right;\">1910</td>\n",
    "<td style=\"text-align:right;\">44</td>\n",
    "<td style=\"text-align:right;\">0.00351</td>\n",
    "<td style=\"text-align:right;\">77048</td>\n",
    "<td style=\"text-align:right;\">270</td>\n",
    "<td style=\"text-align:right;\">76913</td>\n",
    "<td style=\"text-align:right;\">2741212</td>\n",
    "<td style=\"text-align:right;\">35.58</td>\n",
    "<td style=\"text-align:left;\">F</td>\n",
    "</tr>\n",
    "</tbody>\n",
    "</table>\n",
    "<p>You can read the <a href=\"https://www.ssa.gov/oact/NOTES/as120/LifeTables_Body.html\">documentation for the lifetables</a> to understand what the different columns mean. The key column of interest to us is <code>lx</code>, which provides the number of people born in a <code>year</code> who live upto a given <code>age</code>. The probability of being alive can be derived as <code>lx</code> by 100,000. </p>\n",
    "<p>Given that 2016 is the latest year in the baby names dataset, we are interested only in a subset of this data, that will help us answer the question, \"What percentage of people born in Year X are still alive in 2016?\" </p>\n",
    "<p>Let us use this data and plot it to get a sense of the mortality distribution!</p>"
   ]
  },
  {
   "cell_type": "code",
   "execution_count": 6,
   "metadata": {
    "dc": {
     "key": "8beea38403"
    },
    "scrolled": true,
    "tags": [
     "sample_code"
    ]
   },
   "outputs": [
    {
     "data": {
      "text/plain": [
       "<matplotlib.axes._subplots.AxesSubplot at 0xd3ddb70>"
      ]
     },
     "execution_count": 6,
     "metadata": {},
     "output_type": "execute_result"
    },
    {
     "data": {
      "image/png": "[encoded data removed]",
      "text/plain": [
       "<matplotlib.figure.Figure at 0xa3909b0>"
      ]
     },
     "metadata": {},
     "output_type": "display_data"
    }
   ],
   "source": [
    "# Read lifetables from datasets/lifetables.csv\n",
    "lifetables = pd.read_csv('datasets/lifetables.csv')\n",
    "\n",
    "# Extract subset relevant to those alive in 2016\n",
    "\n",
    "#lifetables_2016 = lifetables[lifetables['year']+lifetables['age']==2016]\n",
    "\n",
    "lifetables['dyear']=lifetables['year']+lifetables['age']\n",
    "still_alive = lifetables[lifetables.dyear==2016]\n",
    "lifetables_2016 = still_alive.drop('dyear',axis=1)\n",
    "#lifetables_2016\n",
    "# Plot the mortality distribution: year vs. lx\n",
    "#lifetables_2016.groupby('year')['lx'].sum().plot()\n",
    "lifetables_2016.plot(x='year', y='lx')"
   ]
  },
  {
   "cell_type": "code",
   "execution_count": 7,
   "metadata": {
    "scrolled": false
   },
   "outputs": [
    {
     "data": {
      "text/plain": [
       "<matplotlib.axes._subplots.AxesSubplot at 0xd3e5780>"
      ]
     },
     "execution_count": 7,
     "metadata": {},
     "output_type": "execute_result"
    },
    {
     "data": {
      "image/png": "[encoded data removed]",
      "text/plain": [
       "<matplotlib.figure.Figure at 0x63c4438>"
      ]
     },
     "metadata": {},
     "output_type": "display_data"
    }
   ],
   "source": [
    "ax = lifetables_2016[lifetables_2016.sex=='M'].plot(x='year', y='lx', label='M')\n",
    "lifetables_2016[lifetables_2016.sex=='F'].plot(x='year', y='lx', label='F', ax=ax)"
   ]
  },
  {
   "cell_type": "markdown",
   "metadata": {
    "dc": {
     "key": "19e120d2df"
    },
    "deletable": false,
    "editable": false,
    "run_control": {
     "frozen": true
    },
    "tags": [
     "context"
    ]
   },
   "source": [
    "## 7. Smoothen the Curve!\n",
    "<p>We are almost there. There is just one small glitch. The cohort life tables are provided only for every decade. In order to figure out the distribution of people alive, we need the probabilities for every year. One way to fill up the gaps in the data is to use some kind of interpolation. Let us keep things simple and use linear interpolation to fill out the gaps in values of <code>lx</code>, between the years <code>1900</code> and <code>2016</code>.</p>"
   ]
  },
  {
   "cell_type": "code",
   "execution_count": 8,
   "metadata": {
    "dc": {
     "key": "19e120d2df"
    },
    "tags": [
     "sample_code"
    ]
   },
   "outputs": [
    {
     "data": {
      "text/html": [
       "<div>\n",
       "<style>\n",
       "    .dataframe thead tr:only-child th {\n",
       "        text-align: right;\n",
       "    }\n",
       "\n",
       "    .dataframe thead th {\n",
       "        text-align: left;\n",
       "    }\n",
       "\n",
       "    .dataframe tbody tr th {\n",
       "        vertical-align: top;\n",
       "    }\n",
       "</style>\n",
       "<table border=\"1\" class=\"dataframe\">\n",
       "  <thead>\n",
       "    <tr style=\"text-align: right;\">\n",
       "      <th></th>\n",
       "      <th>year</th>\n",
       "      <th>lx</th>\n",
       "      <th>sex</th>\n",
       "    </tr>\n",
       "  </thead>\n",
       "  <tbody>\n",
       "    <tr>\n",
       "      <th>0</th>\n",
       "      <td>1900</td>\n",
       "      <td>0.0</td>\n",
       "      <td>F</td>\n",
       "    </tr>\n",
       "    <tr>\n",
       "      <th>1</th>\n",
       "      <td>1901</td>\n",
       "      <td>6.1</td>\n",
       "      <td>F</td>\n",
       "    </tr>\n",
       "    <tr>\n",
       "      <th>2</th>\n",
       "      <td>1902</td>\n",
       "      <td>12.2</td>\n",
       "      <td>F</td>\n",
       "    </tr>\n",
       "    <tr>\n",
       "      <th>3</th>\n",
       "      <td>1903</td>\n",
       "      <td>18.3</td>\n",
       "      <td>F</td>\n",
       "    </tr>\n",
       "    <tr>\n",
       "      <th>4</th>\n",
       "      <td>1904</td>\n",
       "      <td>24.4</td>\n",
       "      <td>F</td>\n",
       "    </tr>\n",
       "  </tbody>\n",
       "</table>\n",
       "</div>"
      ],
      "text/plain": [
       "   year    lx sex\n",
       "0  1900   0.0   F\n",
       "1  1901   6.1   F\n",
       "2  1902  12.2   F\n",
       "3  1903  18.3   F\n",
       "4  1904  24.4   F"
      ]
     },
     "execution_count": 8,
     "metadata": {},
     "output_type": "execute_result"
    }
   ],
   "source": [
    "# Create smoothened lifetable_2016_s by interpolating values of lx\n",
    "import numpy as np\n",
    "#lifetable_2016_s = lifetables_2016.sort_values(['sex','year']).copy()\n",
    "#lifetable_2016_s.interpolate(method='linear',)\n",
    "\n",
    "year = np.arange(1900, 2016)\n",
    "#year\n",
    "mf = {\"M\": pd.DataFrame(), \"F\": pd.DataFrame()}\n",
    "#mf\n",
    "#lifetables_2016[lifetables_2016['sex'] == 'M'][[\"year\", \"lx\"]].set_index('year').reindex(year).interpolate().reset_index()\n",
    "for sex in [\"M\", \"F\"]:\n",
    "    d = lifetables_2016[lifetables_2016['sex'] == sex][[\"year\", \"lx\"]]\n",
    "    mf[sex] = d.set_index('year').reindex(year).interpolate().reset_index()\n",
    "    mf[sex]['sex'] = sex\n",
    "#type(pd.concat(mf, ignore_index=True))\n",
    "#pd.concat(mf, ignore_index=True)\n",
    "lifetable_2016_s = pd.concat(mf, ignore_index = True)\n",
    "lifetable_2016_s.head()"
   ]
  },
  {
   "cell_type": "markdown",
   "metadata": {
    "dc": {
     "key": "8edb689558"
    },
    "deletable": false,
    "editable": false,
    "run_control": {
     "frozen": true
    },
    "tags": [
     "context"
    ]
   },
   "source": [
    "## 8. Distribution of People Alive by Name\n",
    "<p>Now that we have all the required data, we need a few helper functions to help us with our analysis. </p>\n",
    "<p>The first function we will write is <code>get_data</code>,which takes <code>name</code> and <code>sex</code> as inputs and returns a data frame with the distribution of number of births and number of people alive by year.</p>\n",
    "<p>The second function is <code>plot_name</code> which accepts the same arguments as <code>get_data</code>, but returns a line plot of the distribution of number of births, overlaid by an area plot of the number alive by year.</p>\n",
    "<p>Using these functions, we will plot the distribution of births for boys named <strong>Joseph</strong> and girls named <strong>Brittany</strong>.</p>"
   ]
  },
  {
   "cell_type": "code",
   "execution_count": 9,
   "metadata": {
    "dc": {
     "key": "8edb689558"
    },
    "scrolled": false,
    "tags": [
     "sample_code"
    ]
   },
   "outputs": [
    {
     "data": {
      "image/png": "[encoded data removed]",
      "text/plain": [
       "<matplotlib.figure.Figure at 0xc8be860>"
      ]
     },
     "metadata": {},
     "output_type": "display_data"
    },
    {
     "data": {
      "image/png": "[encoded data removed]",
      "text/plain": [
       "<matplotlib.figure.Figure at 0xc924c18>"
      ]
     },
     "metadata": {},
     "output_type": "display_data"
    }
   ],
   "source": [
    "def get_data(name, sex):\n",
    "       # YOUR CODE HERE\n",
    "    bnames_name_sex = bnames[(bnames.name==name)&(bnames.sex==sex)]\n",
    "    lifetable_2016_s_sex = lifetable_2016_s[lifetable_2016_s.sex == sex]\n",
    "    data = pd.merge(lifetable_2016_s_sex, bnames_name_sex, how='left', on='year')\n",
    "    data['n_alive'] = data['lx']*data['births']/100000\n",
    "    data = data.drop(['sex_y'], axis=1)\n",
    "    data = data[['name', 'sex_x', 'births', 'year', 'lx', 'n_alive']]\n",
    "    #print(data)\n",
    "    return data\n",
    "\n",
    "  \n",
    "\n",
    "def plot_data(name, sex):\n",
    "    # YOUR CODE HERE\n",
    "    ax = get_data(name,sex).plot(x='year', y='births')\n",
    "    get_data(name,sex).plot(kind='area',alpha=0.5, x='year', y='n_alive', ax=ax)\n",
    "    return \n",
    "    \n",
    "# Plot the distribution of births and number alive for Joseph and Brittany\n",
    "plot_data('Joseph','M')\n",
    "plot_data('Brittany','F')\n",
    "#bnames\n",
    "#lifetable_2016_s"
   ]
  },
  {
   "cell_type": "markdown",
   "metadata": {
    "dc": {
     "key": "76f2d745c2"
    },
    "deletable": false,
    "editable": false,
    "run_control": {
     "frozen": true
    },
    "tags": [
     "context"
    ]
   },
   "source": [
    "## 9. Estimate Age\n",
    "<p>In this section, we want to figure out the probability that a person with a certain name is alive, as well as the quantiles of their age distribution. In particular, we will estimate the age of a female named <strong>Gertrude</strong>. Any guesses on how old a person with this name is? How about a male named <strong>William</strong>?</p>"
   ]
  },
  {
   "cell_type": "code",
   "execution_count": 11,
   "metadata": {
    "collapsed": true,
    "dc": {
     "key": "76f2d745c2"
    },
    "tags": [
     "sample_code"
    ]
   },
   
   "source": [
    "# Import modules\n",
    "from wquantiles import quantile\n",
    "\n",
    "# Function to estimate age quantiles\n",
    "def estimate_age(name, sex):\n",
    "    # YOUR CODE HERE\n",
    "    data = get_data(name,sex)\n",
    "    data = data.fillna(0)\n",
    "    qs = [0.25, 0.5, 0.75]\n",
    "    quantiles = [2016 - int(quantile(data.year, data.n_alive, q)) for q in qs]\n",
    "    p_alive = data.n_alive.sum()/data.births.sum()\n",
    "    #data['age']=2016-data['year']\n",
    "    result = pd.Series(index=['name','p_alive','q25','q50','q75','sex'])\n",
    "    result['name']=name\n",
    "    result['p_alive']=p_alive\n",
    "    result['q25']=quantiles[0]\n",
    "    result['q50']=quantiles[1]\n",
    "    result['q75']=quantiles[2]\n",
    "    result['sex']=sex\n",
    "\n",
    "    return result\n",
    "\n",
    "# Estimate the age of Gertrude\n",
    "estimate_age('Gertrude', 'F')\n",
    "\n",
    "#  result = dict(zip(['q25', 'q50', 'q75'], quantiles))\n",
    "#  result['p_alive'] = round(data.n_alive.sum()/data.births.sum()*100, 2)\n",
    "#  result['sex'] = sex\n",
    "#  result['name'] = name\n",
    "#  return pd.Series(result)"
   ]
  },
  {
   "cell_type": "markdown",
   "metadata": {
    "dc": {
     "key": "9f5f6fd409"
    },
    "deletable": false,
    "editable": false,
    "run_control": {
     "frozen": true
    },
    "tags": [
     "context"
    ]
   },
   "source": [
    "## 10. Median Age of Top 10 Female Names\n",
    "<p>In the previous section, we estimated the age of a female named Gertrude. Let's go one step further this time, and compute the 25th, 50th and 75th percentiles of age, and the probability of being alive for the top 10 most common female names of all time. This should give us some interesting insights on how these names stack up in terms of median ages!</p>"
   ]
  },
  {
   "cell_type": "code",
   "execution_count": null,
   "metadata": {
    "collapsed": true,
    "dc": {
     "key": "9f5f6fd409"
    },
    "tags": [
     "sample_code"
    ]
   },
   "outputs": [],
   "source": [
    "# Create median_ages: DataFrame with Top 10 Female names, \n",
    "#    age percentiles and probability of being alive\n",
    "# -- YOUR CODE HERE --\n",
    "\n",
    "#sex='F'\n",
    "#bnames_agg = bnames.groupby(['sex', 'name'], as_index=False)['births'].sum()\n",
    "#top_ten_female = bnames_agg.sort_values(['sex','births'], ascending=[True, False]).head(10).name\n",
    "#top_ten_female\n",
    "\n",
    "#for name in top_ten_female:\n",
    "    #estimate_age(name, sex)\n",
    "#    print(name, sex)\n",
    "    \n",
    "    \n",
    "top_10_female_names = bnames.\\\n",
    "    groupby(['sex', 'name'], as_index = False).\\\n",
    "    agg({'births': np.sum}).\\\n",
    "    sort_values('births', ascending = False).\\\n",
    "    query('sex == \"F\"').\\\n",
    "    head(10).\\\n",
    "    reset_index(drop = True)\n",
    "estimates = pd.concat([estimate_age(name, 'F') for name in top_10_female_names.name], axis = 1)\n",
    "median_ages = estimates.T.sort_values('q50').reset_index(drop = True)\n",
    "median_ages"
   ]
  },
  {
   "cell_type": "code",
   "execution_count": null,
   "metadata": {
    "collapsed": true,
    "scrolled": false
   },
   "outputs": [],
   "source": [
    "#estimate_age('Jennifer','F')"
   ]
  }
 ],
 "metadata": {
  "kernelspec": {
   "display_name": "Python 3",
   "language": "python",
   "name": "python3"
  },
  "language_info": {
   "codemirror_mode": {
    "name": "ipython",
    "version": 3
   },
   "file_extension": ".py",
   "mimetype": "text/x-python",
   "name": "python",
   "nbconvert_exporter": "python",
   "pygments_lexer": "ipython3",
   "version": "3.5.4"
  }
 },
 "nbformat": 4,
 "nbformat_minor": 2
}
